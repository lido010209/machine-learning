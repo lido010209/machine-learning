{
 "cells": [
  {
   "cell_type": "markdown",
   "metadata": {},
   "source": [
    "# **Lead Scoring Case Study**"
   ]
  },
  {
   "cell_type": "code",
   "execution_count": 141,
   "metadata": {},
   "outputs": [],
   "source": [
    "# import libaries\n",
    "import pandas as pd\n",
    "import numpy as np\n",
    "import matplotlib.pyplot as plt\n",
    "import seaborn as sns\n",
    "import re\n",
    "\n",
    "import warnings\n",
    "warnings.filterwarnings('ignore')\n",
    "\n",
    "from IPython.core.interactiveshell import InteractiveShell\n",
    "InteractiveShell.ast_node_interactivity = \"all\"\n",
    "%matplotlib inline"
   ]
  },
  {
   "cell_type": "markdown",
   "metadata": {},
   "source": [
    "## *Step 1: Data cleaning and preparation*"
   ]
  },
  {
   "cell_type": "markdown",
   "metadata": {},
   "source": [
    "- Handling categorical variables\n",
    "    - Mapping categorical variables to integers\n",
    "    - Dummy variable creation\n",
    "- Handling outliers & missing values"
   ]
  },
  {
   "cell_type": "markdown",
   "metadata": {},
   "source": [
    "### Data Importing"
   ]
  },
  {
   "cell_type": "code",
   "execution_count": 142,
   "metadata": {},
   "outputs": [
    {
     "data": {
      "text/html": [
       "<div>\n",
       "<style scoped>\n",
       "    .dataframe tbody tr th:only-of-type {\n",
       "        vertical-align: middle;\n",
       "    }\n",
       "\n",
       "    .dataframe tbody tr th {\n",
       "        vertical-align: top;\n",
       "    }\n",
       "\n",
       "    .dataframe thead th {\n",
       "        text-align: right;\n",
       "    }\n",
       "</style>\n",
       "<table border=\"1\" class=\"dataframe\">\n",
       "  <thead>\n",
       "    <tr style=\"text-align: right;\">\n",
       "      <th></th>\n",
       "      <th>Prospect ID</th>\n",
       "      <th>Lead Number</th>\n",
       "      <th>Lead Origin</th>\n",
       "      <th>Lead Source</th>\n",
       "      <th>Do Not Email</th>\n",
       "      <th>Do Not Call</th>\n",
       "      <th>Converted</th>\n",
       "      <th>TotalVisits</th>\n",
       "      <th>Total Time Spent on Website</th>\n",
       "      <th>Page Views Per Visit</th>\n",
       "      <th>...</th>\n",
       "      <th>Get updates on DM Content</th>\n",
       "      <th>Lead Profile</th>\n",
       "      <th>City</th>\n",
       "      <th>Asymmetrique Activity Index</th>\n",
       "      <th>Asymmetrique Profile Index</th>\n",
       "      <th>Asymmetrique Activity Score</th>\n",
       "      <th>Asymmetrique Profile Score</th>\n",
       "      <th>I agree to pay the amount through cheque</th>\n",
       "      <th>A free copy of Mastering The Interview</th>\n",
       "      <th>Last Notable Activity</th>\n",
       "    </tr>\n",
       "  </thead>\n",
       "  <tbody>\n",
       "    <tr>\n",
       "      <th>0</th>\n",
       "      <td>7927b2df-8bba-4d29-b9a2-b6e0beafe620</td>\n",
       "      <td>660737</td>\n",
       "      <td>API</td>\n",
       "      <td>Olark Chat</td>\n",
       "      <td>No</td>\n",
       "      <td>No</td>\n",
       "      <td>0</td>\n",
       "      <td>0.0</td>\n",
       "      <td>0</td>\n",
       "      <td>0.0</td>\n",
       "      <td>...</td>\n",
       "      <td>No</td>\n",
       "      <td>Select</td>\n",
       "      <td>Select</td>\n",
       "      <td>02.Medium</td>\n",
       "      <td>02.Medium</td>\n",
       "      <td>15.0</td>\n",
       "      <td>15.0</td>\n",
       "      <td>No</td>\n",
       "      <td>No</td>\n",
       "      <td>Modified</td>\n",
       "    </tr>\n",
       "    <tr>\n",
       "      <th>1</th>\n",
       "      <td>2a272436-5132-4136-86fa-dcc88c88f482</td>\n",
       "      <td>660728</td>\n",
       "      <td>API</td>\n",
       "      <td>Organic Search</td>\n",
       "      <td>No</td>\n",
       "      <td>No</td>\n",
       "      <td>0</td>\n",
       "      <td>5.0</td>\n",
       "      <td>674</td>\n",
       "      <td>2.5</td>\n",
       "      <td>...</td>\n",
       "      <td>No</td>\n",
       "      <td>Select</td>\n",
       "      <td>Select</td>\n",
       "      <td>02.Medium</td>\n",
       "      <td>02.Medium</td>\n",
       "      <td>15.0</td>\n",
       "      <td>15.0</td>\n",
       "      <td>No</td>\n",
       "      <td>No</td>\n",
       "      <td>Email Opened</td>\n",
       "    </tr>\n",
       "    <tr>\n",
       "      <th>2</th>\n",
       "      <td>8cc8c611-a219-4f35-ad23-fdfd2656bd8a</td>\n",
       "      <td>660727</td>\n",
       "      <td>Landing Page Submission</td>\n",
       "      <td>Direct Traffic</td>\n",
       "      <td>No</td>\n",
       "      <td>No</td>\n",
       "      <td>1</td>\n",
       "      <td>2.0</td>\n",
       "      <td>1532</td>\n",
       "      <td>2.0</td>\n",
       "      <td>...</td>\n",
       "      <td>No</td>\n",
       "      <td>Potential Lead</td>\n",
       "      <td>Mumbai</td>\n",
       "      <td>02.Medium</td>\n",
       "      <td>01.High</td>\n",
       "      <td>14.0</td>\n",
       "      <td>20.0</td>\n",
       "      <td>No</td>\n",
       "      <td>Yes</td>\n",
       "      <td>Email Opened</td>\n",
       "    </tr>\n",
       "    <tr>\n",
       "      <th>3</th>\n",
       "      <td>0cc2df48-7cf4-4e39-9de9-19797f9b38cc</td>\n",
       "      <td>660719</td>\n",
       "      <td>Landing Page Submission</td>\n",
       "      <td>Direct Traffic</td>\n",
       "      <td>No</td>\n",
       "      <td>No</td>\n",
       "      <td>0</td>\n",
       "      <td>1.0</td>\n",
       "      <td>305</td>\n",
       "      <td>1.0</td>\n",
       "      <td>...</td>\n",
       "      <td>No</td>\n",
       "      <td>Select</td>\n",
       "      <td>Mumbai</td>\n",
       "      <td>02.Medium</td>\n",
       "      <td>01.High</td>\n",
       "      <td>13.0</td>\n",
       "      <td>17.0</td>\n",
       "      <td>No</td>\n",
       "      <td>No</td>\n",
       "      <td>Modified</td>\n",
       "    </tr>\n",
       "    <tr>\n",
       "      <th>4</th>\n",
       "      <td>3256f628-e534-4826-9d63-4a8b88782852</td>\n",
       "      <td>660681</td>\n",
       "      <td>Landing Page Submission</td>\n",
       "      <td>Google</td>\n",
       "      <td>No</td>\n",
       "      <td>No</td>\n",
       "      <td>1</td>\n",
       "      <td>2.0</td>\n",
       "      <td>1428</td>\n",
       "      <td>1.0</td>\n",
       "      <td>...</td>\n",
       "      <td>No</td>\n",
       "      <td>Select</td>\n",
       "      <td>Mumbai</td>\n",
       "      <td>02.Medium</td>\n",
       "      <td>01.High</td>\n",
       "      <td>15.0</td>\n",
       "      <td>18.0</td>\n",
       "      <td>No</td>\n",
       "      <td>No</td>\n",
       "      <td>Modified</td>\n",
       "    </tr>\n",
       "  </tbody>\n",
       "</table>\n",
       "<p>5 rows × 37 columns</p>\n",
       "</div>"
      ],
      "text/plain": [
       "                            Prospect ID  Lead Number              Lead Origin  \\\n",
       "0  7927b2df-8bba-4d29-b9a2-b6e0beafe620       660737                      API   \n",
       "1  2a272436-5132-4136-86fa-dcc88c88f482       660728                      API   \n",
       "2  8cc8c611-a219-4f35-ad23-fdfd2656bd8a       660727  Landing Page Submission   \n",
       "3  0cc2df48-7cf4-4e39-9de9-19797f9b38cc       660719  Landing Page Submission   \n",
       "4  3256f628-e534-4826-9d63-4a8b88782852       660681  Landing Page Submission   \n",
       "\n",
       "      Lead Source Do Not Email Do Not Call  Converted  TotalVisits  \\\n",
       "0      Olark Chat           No          No          0          0.0   \n",
       "1  Organic Search           No          No          0          5.0   \n",
       "2  Direct Traffic           No          No          1          2.0   \n",
       "3  Direct Traffic           No          No          0          1.0   \n",
       "4          Google           No          No          1          2.0   \n",
       "\n",
       "   Total Time Spent on Website  Page Views Per Visit  ...  \\\n",
       "0                            0                   0.0  ...   \n",
       "1                          674                   2.5  ...   \n",
       "2                         1532                   2.0  ...   \n",
       "3                          305                   1.0  ...   \n",
       "4                         1428                   1.0  ...   \n",
       "\n",
       "  Get updates on DM Content    Lead Profile    City  \\\n",
       "0                        No          Select  Select   \n",
       "1                        No          Select  Select   \n",
       "2                        No  Potential Lead  Mumbai   \n",
       "3                        No          Select  Mumbai   \n",
       "4                        No          Select  Mumbai   \n",
       "\n",
       "  Asymmetrique Activity Index Asymmetrique Profile Index  \\\n",
       "0                   02.Medium                  02.Medium   \n",
       "1                   02.Medium                  02.Medium   \n",
       "2                   02.Medium                    01.High   \n",
       "3                   02.Medium                    01.High   \n",
       "4                   02.Medium                    01.High   \n",
       "\n",
       "  Asymmetrique Activity Score Asymmetrique Profile Score  \\\n",
       "0                        15.0                       15.0   \n",
       "1                        15.0                       15.0   \n",
       "2                        14.0                       20.0   \n",
       "3                        13.0                       17.0   \n",
       "4                        15.0                       18.0   \n",
       "\n",
       "  I agree to pay the amount through cheque  \\\n",
       "0                                       No   \n",
       "1                                       No   \n",
       "2                                       No   \n",
       "3                                       No   \n",
       "4                                       No   \n",
       "\n",
       "  A free copy of Mastering The Interview Last Notable Activity  \n",
       "0                                     No              Modified  \n",
       "1                                     No          Email Opened  \n",
       "2                                    Yes          Email Opened  \n",
       "3                                     No              Modified  \n",
       "4                                     No              Modified  \n",
       "\n",
       "[5 rows x 37 columns]"
      ]
     },
     "execution_count": 142,
     "metadata": {},
     "output_type": "execute_result"
    }
   ],
   "source": [
    "# import Leads data\n",
    "leads = pd.read_csv('data/Leads.csv')\n",
    "leads.head()"
   ]
  },
  {
   "cell_type": "code",
   "execution_count": 143,
   "metadata": {},
   "outputs": [
    {
     "data": {
      "text/plain": [
       "(9240, 37)"
      ]
     },
     "execution_count": 143,
     "metadata": {},
     "output_type": "execute_result"
    }
   ],
   "source": [
    "leads.shape"
   ]
  },
  {
   "cell_type": "code",
   "execution_count": 144,
   "metadata": {},
   "outputs": [
    {
     "name": "stdout",
     "output_type": "stream",
     "text": [
      "<class 'pandas.core.frame.DataFrame'>\n",
      "RangeIndex: 9240 entries, 0 to 9239\n",
      "Data columns (total 37 columns):\n",
      " #   Column                                         Non-Null Count  Dtype  \n",
      "---  ------                                         --------------  -----  \n",
      " 0   Prospect ID                                    9240 non-null   object \n",
      " 1   Lead Number                                    9240 non-null   int64  \n",
      " 2   Lead Origin                                    9240 non-null   object \n",
      " 3   Lead Source                                    9204 non-null   object \n",
      " 4   Do Not Email                                   9240 non-null   object \n",
      " 5   Do Not Call                                    9240 non-null   object \n",
      " 6   Converted                                      9240 non-null   int64  \n",
      " 7   TotalVisits                                    9103 non-null   float64\n",
      " 8   Total Time Spent on Website                    9240 non-null   int64  \n",
      " 9   Page Views Per Visit                           9103 non-null   float64\n",
      " 10  Last Activity                                  9137 non-null   object \n",
      " 11  Country                                        6779 non-null   object \n",
      " 12  Specialization                                 7802 non-null   object \n",
      " 13  How did you hear about X Education             7033 non-null   object \n",
      " 14  What is your current occupation                6550 non-null   object \n",
      " 15  What matters most to you in choosing a course  6531 non-null   object \n",
      " 16  Search                                         9240 non-null   object \n",
      " 17  Magazine                                       9240 non-null   object \n",
      " 18  Newspaper Article                              9240 non-null   object \n",
      " 19  X Education Forums                             9240 non-null   object \n",
      " 20  Newspaper                                      9240 non-null   object \n",
      " 21  Digital Advertisement                          9240 non-null   object \n",
      " 22  Through Recommendations                        9240 non-null   object \n",
      " 23  Receive More Updates About Our Courses         9240 non-null   object \n",
      " 24  Tags                                           5887 non-null   object \n",
      " 25  Lead Quality                                   4473 non-null   object \n",
      " 26  Update me on Supply Chain Content              9240 non-null   object \n",
      " 27  Get updates on DM Content                      9240 non-null   object \n",
      " 28  Lead Profile                                   6531 non-null   object \n",
      " 29  City                                           7820 non-null   object \n",
      " 30  Asymmetrique Activity Index                    5022 non-null   object \n",
      " 31  Asymmetrique Profile Index                     5022 non-null   object \n",
      " 32  Asymmetrique Activity Score                    5022 non-null   float64\n",
      " 33  Asymmetrique Profile Score                     5022 non-null   float64\n",
      " 34  I agree to pay the amount through cheque       9240 non-null   object \n",
      " 35  A free copy of Mastering The Interview         9240 non-null   object \n",
      " 36  Last Notable Activity                          9240 non-null   object \n",
      "dtypes: float64(4), int64(3), object(30)\n",
      "memory usage: 2.6+ MB\n"
     ]
    }
   ],
   "source": [
    "# check columns type\n",
    "leads.info()"
   ]
  },
  {
   "cell_type": "code",
   "execution_count": 145,
   "metadata": {},
   "outputs": [],
   "source": [
    "# Change name of some columns\n",
    "leads.rename(columns={\n",
    "    'How did you hear about X Education': 'source',\n",
    "    'What is your current occupation': 'occupation',\n",
    "    'What matters most to you in choosing a course': 'course_preference',\n",
    "    'Total Time Spent on Website': 'total_time_on_website',\n",
    "    'Receive More Updates About Our Courses': 'receive_updates',\n",
    "    'Update me on Supply Chain Content': 'supply_chain_updates',\n",
    "    'Get updates on DM Content': 'dm_content_updates',\n",
    "    'I agree to pay the amount through cheque': 'cheque_payment_agreement',\n",
    "    'A free copy of Mastering The Interview': 'free_copy_mastering_interview'\n",
    "}, inplace=True)"
   ]
  },
  {
   "cell_type": "markdown",
   "metadata": {},
   "source": [
    "### 1. Checking column with only one value (Unique value column)"
   ]
  },
  {
   "cell_type": "code",
   "execution_count": 146,
   "metadata": {},
   "outputs": [],
   "source": [
    "uni_column = []\n",
    "for i in leads.columns:\n",
    "    if leads[i].unique().size ==1:\n",
    "        uni_column.append(i)"
   ]
  },
  {
   "cell_type": "code",
   "execution_count": 147,
   "metadata": {},
   "outputs": [
    {
     "data": {
      "text/plain": [
       "['Magazine',\n",
       " 'receive_updates',\n",
       " 'supply_chain_updates',\n",
       " 'dm_content_updates',\n",
       " 'cheque_payment_agreement']"
      ]
     },
     "execution_count": 147,
     "metadata": {},
     "output_type": "execute_result"
    }
   ],
   "source": [
    "# All columns with only one value.\n",
    "uni_column"
   ]
  },
  {
   "cell_type": "markdown",
   "metadata": {},
   "source": [
    "- Take a look from above, there are some columns that contain only one value. (Single Unique Value)  \n",
    "- Columns: **Magazine, receive_updates, supply_chain_updates, dm_content_updates, cheque_payment_agreement** \n",
    " \n",
    "=> Drop all these columns "
   ]
  },
  {
   "cell_type": "code",
   "execution_count": 148,
   "metadata": {},
   "outputs": [],
   "source": [
    "leads.drop(uni_column, axis=1, inplace= True)"
   ]
  },
  {
   "cell_type": "code",
   "execution_count": 149,
   "metadata": {},
   "outputs": [
    {
     "data": {
      "text/plain": [
       "(9240, 32)"
      ]
     },
     "execution_count": 149,
     "metadata": {},
     "output_type": "execute_result"
    }
   ],
   "source": [
    "leads.shape"
   ]
  },
  {
   "cell_type": "markdown",
   "metadata": {},
   "source": [
    "### 1.1. Refine the dataset"
   ]
  },
  {
   "cell_type": "code",
   "execution_count": 150,
   "metadata": {},
   "outputs": [
    {
     "data": {
      "text/plain": [
       "Prospect ID\n",
       "571b5c8e-a5b2-4d57-8574-f2ffb06fdeff    0.000108\n",
       "7927b2df-8bba-4d29-b9a2-b6e0beafe620    0.000108\n",
       "2a272436-5132-4136-86fa-dcc88c88f482    0.000108\n",
       "8cc8c611-a219-4f35-ad23-fdfd2656bd8a    0.000108\n",
       "0cc2df48-7cf4-4e39-9de9-19797f9b38cc    0.000108\n",
       "                                          ...   \n",
       "8bf76a52-2478-476b-8618-1688e07874ad    0.000108\n",
       "9bc8ce93-6144-49e0-9f9d-080fc980f83c    0.000108\n",
       "2a369e35-ca95-4ca9-9e4f-9d27175aa320    0.000108\n",
       "af465dfc-7204-4130-9e05-33231863c4b5    0.000108\n",
       "cfa0128c-a0da-4656-9d47-0aa4e67bf690    0.000108\n",
       "Name: proportion, Length: 9240, dtype: float64"
      ]
     },
     "execution_count": 150,
     "metadata": {},
     "output_type": "execute_result"
    },
    {
     "data": {
      "text/plain": [
       "Lead Origin\n",
       "Landing Page Submission    0.528788\n",
       "API                        0.387446\n",
       "Lead Add Form              0.077706\n",
       "Lead Import                0.005952\n",
       "Quick Add Form             0.000108\n",
       "Name: proportion, dtype: float64"
      ]
     },
     "execution_count": 150,
     "metadata": {},
     "output_type": "execute_result"
    },
    {
     "data": {
      "text/plain": [
       "Lead Source\n",
       "Google               0.311604\n",
       "Direct Traffic       0.276293\n",
       "Olark Chat           0.190678\n",
       "Organic Search       0.125380\n",
       "Reference            0.058018\n",
       "Welingak Website     0.015428\n",
       "Referral Sites       0.013581\n",
       "Facebook             0.005976\n",
       "bing                 0.000652\n",
       "google               0.000543\n",
       "Click2call           0.000435\n",
       "Live Chat            0.000217\n",
       "Social Media         0.000217\n",
       "Press_Release        0.000217\n",
       "Pay per Click Ads    0.000109\n",
       "blog                 0.000109\n",
       "WeLearn              0.000109\n",
       "welearnblog_Home     0.000109\n",
       "youtubechannel       0.000109\n",
       "testone              0.000109\n",
       "NC_EDM               0.000109\n",
       "Name: proportion, dtype: float64"
      ]
     },
     "execution_count": 150,
     "metadata": {},
     "output_type": "execute_result"
    },
    {
     "data": {
      "text/plain": [
       "Do Not Email\n",
       "No     0.920563\n",
       "Yes    0.079437\n",
       "Name: proportion, dtype: float64"
      ]
     },
     "execution_count": 150,
     "metadata": {},
     "output_type": "execute_result"
    },
    {
     "data": {
      "text/plain": [
       "Do Not Call\n",
       "No     0.999784\n",
       "Yes    0.000216\n",
       "Name: proportion, dtype: float64"
      ]
     },
     "execution_count": 150,
     "metadata": {},
     "output_type": "execute_result"
    },
    {
     "data": {
      "text/plain": [
       "Last Activity\n",
       "Email Opened                    0.376163\n",
       "SMS Sent                        0.300427\n",
       "Olark Chat Conversation         0.106490\n",
       "Page Visited on Website         0.070045\n",
       "Converted to Lead               0.046843\n",
       "Email Bounced                   0.035679\n",
       "Email Link Clicked              0.029222\n",
       "Form Submitted on Website       0.012696\n",
       "Unreachable                     0.010178\n",
       "Unsubscribed                    0.006676\n",
       "Had a Phone Conversation        0.003283\n",
       "Approached upfront              0.000985\n",
       "View in browser link Clicked    0.000657\n",
       "Email Marked Spam               0.000219\n",
       "Email Received                  0.000219\n",
       "Resubscribed to emails          0.000109\n",
       "Visited Booth in Tradeshow      0.000109\n",
       "Name: proportion, dtype: float64"
      ]
     },
     "execution_count": 150,
     "metadata": {},
     "output_type": "execute_result"
    },
    {
     "data": {
      "text/plain": [
       "Country\n",
       "India                   0.957663\n",
       "United States           0.010178\n",
       "United Arab Emirates    0.007818\n",
       "Singapore               0.003540\n",
       "Saudi Arabia            0.003098\n",
       "United Kingdom          0.002213\n",
       "Australia               0.001918\n",
       "Qatar                   0.001475\n",
       "Hong Kong               0.001033\n",
       "Bahrain                 0.001033\n",
       "Oman                    0.000885\n",
       "France                  0.000885\n",
       "unknown                 0.000738\n",
       "Kuwait                  0.000590\n",
       "South Africa            0.000590\n",
       "Nigeria                 0.000590\n",
       "Germany                 0.000590\n",
       "Canada                  0.000590\n",
       "Sweden                  0.000443\n",
       "Italy                   0.000295\n",
       "Belgium                 0.000295\n",
       "Ghana                   0.000295\n",
       "Philippines             0.000295\n",
       "Netherlands             0.000295\n",
       "China                   0.000295\n",
       "Asia/Pacific Region     0.000295\n",
       "Bangladesh              0.000295\n",
       "Uganda                  0.000295\n",
       "Russia                  0.000148\n",
       "Sri Lanka               0.000148\n",
       "Tanzania                0.000148\n",
       "Kenya                   0.000148\n",
       "Malaysia                0.000148\n",
       "Liberia                 0.000148\n",
       "Denmark                 0.000148\n",
       "Switzerland             0.000148\n",
       "Vietnam                 0.000148\n",
       "Indonesia               0.000148\n",
       "Name: proportion, dtype: float64"
      ]
     },
     "execution_count": 150,
     "metadata": {},
     "output_type": "execute_result"
    },
    {
     "data": {
      "text/plain": [
       "Specialization\n",
       "Select                               0.248911\n",
       "Finance Management                   0.125096\n",
       "Human Resource Management            0.108690\n",
       "Marketing Management                 0.107408\n",
       "Operations Management                0.064471\n",
       "Business Administration              0.051653\n",
       "IT Projects Management               0.046911\n",
       "Supply Chain Management              0.044732\n",
       "Banking, Investment And Insurance    0.043322\n",
       "Media and Advertising                0.026019\n",
       "Travel and Tourism                   0.026019\n",
       "International Business               0.022815\n",
       "Healthcare Management                0.020379\n",
       "Hospitality Management               0.014612\n",
       "E-COMMERCE                           0.014355\n",
       "Retail Management                    0.012817\n",
       "Rural and Agribusiness               0.009357\n",
       "E-Business                           0.007306\n",
       "Services Excellence                  0.005127\n",
       "Name: proportion, dtype: float64"
      ]
     },
     "execution_count": 150,
     "metadata": {},
     "output_type": "execute_result"
    },
    {
     "data": {
      "text/plain": [
       "source\n",
       "Select                   0.717048\n",
       "Online Search            0.114887\n",
       "Word Of Mouth            0.049481\n",
       "Student of SomeSchool    0.044078\n",
       "Other                    0.026447\n",
       "Multiple Sources         0.021612\n",
       "Advertisements           0.009953\n",
       "Social Media             0.009527\n",
       "Email                    0.003697\n",
       "SMS                      0.003270\n",
       "Name: proportion, dtype: float64"
      ]
     },
     "execution_count": 150,
     "metadata": {},
     "output_type": "execute_result"
    },
    {
     "data": {
      "text/plain": [
       "occupation\n",
       "Unemployed              0.854962\n",
       "Working Professional    0.107786\n",
       "Student                 0.032061\n",
       "Other                   0.002443\n",
       "Housewife               0.001527\n",
       "Businessman             0.001221\n",
       "Name: proportion, dtype: float64"
      ]
     },
     "execution_count": 150,
     "metadata": {},
     "output_type": "execute_result"
    },
    {
     "data": {
      "text/plain": [
       "course_preference\n",
       "Better Career Prospects      0.999541\n",
       "Flexibility & Convenience    0.000306\n",
       "Other                        0.000153\n",
       "Name: proportion, dtype: float64"
      ]
     },
     "execution_count": 150,
     "metadata": {},
     "output_type": "execute_result"
    },
    {
     "data": {
      "text/plain": [
       "Search\n",
       "No     0.998485\n",
       "Yes    0.001515\n",
       "Name: proportion, dtype: float64"
      ]
     },
     "execution_count": 150,
     "metadata": {},
     "output_type": "execute_result"
    },
    {
     "data": {
      "text/plain": [
       "Newspaper Article\n",
       "No     0.999784\n",
       "Yes    0.000216\n",
       "Name: proportion, dtype: float64"
      ]
     },
     "execution_count": 150,
     "metadata": {},
     "output_type": "execute_result"
    },
    {
     "data": {
      "text/plain": [
       "X Education Forums\n",
       "No     0.999892\n",
       "Yes    0.000108\n",
       "Name: proportion, dtype: float64"
      ]
     },
     "execution_count": 150,
     "metadata": {},
     "output_type": "execute_result"
    },
    {
     "data": {
      "text/plain": [
       "Newspaper\n",
       "No     0.999892\n",
       "Yes    0.000108\n",
       "Name: proportion, dtype: float64"
      ]
     },
     "execution_count": 150,
     "metadata": {},
     "output_type": "execute_result"
    },
    {
     "data": {
      "text/plain": [
       "Digital Advertisement\n",
       "No     0.999567\n",
       "Yes    0.000433\n",
       "Name: proportion, dtype: float64"
      ]
     },
     "execution_count": 150,
     "metadata": {},
     "output_type": "execute_result"
    },
    {
     "data": {
      "text/plain": [
       "Through Recommendations\n",
       "No     0.999242\n",
       "Yes    0.000758\n",
       "Name: proportion, dtype: float64"
      ]
     },
     "execution_count": 150,
     "metadata": {},
     "output_type": "execute_result"
    },
    {
     "data": {
      "text/plain": [
       "Tags\n",
       "Will revert after reading the email                  0.351962\n",
       "Ringing                                              0.204349\n",
       "Interested in other courses                          0.087141\n",
       "Already a student                                    0.078988\n",
       "Closed by Horizzon                                   0.060812\n",
       "switched off                                         0.040768\n",
       "Busy                                                 0.031595\n",
       "Lost to EINS                                         0.029727\n",
       "Not doing further education                          0.024631\n",
       "Interested  in full time MBA                         0.019874\n",
       "Graduation in progress                               0.018855\n",
       "invalid number                                       0.014099\n",
       "Diploma holder (Not Eligible)                        0.010702\n",
       "wrong number given                                   0.007984\n",
       "opp hangup                                           0.005606\n",
       "number not provided                                  0.004586\n",
       "in touch with EINS                                   0.002038\n",
       "Lost to Others                                       0.001189\n",
       "Want to take admission but has financial problems    0.001019\n",
       "Still Thinking                                       0.001019\n",
       "In confusion whether part time or DLP                0.000849\n",
       "Interested in Next batch                             0.000849\n",
       "Lateral student                                      0.000510\n",
       "Shall take in the next coming month                  0.000340\n",
       "University not recognized                            0.000340\n",
       "Recognition issue (DEC approval)                     0.000170\n",
       "Name: proportion, dtype: float64"
      ]
     },
     "execution_count": 150,
     "metadata": {},
     "output_type": "execute_result"
    },
    {
     "data": {
      "text/plain": [
       "Lead Quality\n",
       "Might be             0.348759\n",
       "Not Sure             0.244131\n",
       "High in Relevance    0.142410\n",
       "Worst                0.134362\n",
       "Low in Relevance     0.130338\n",
       "Name: proportion, dtype: float64"
      ]
     },
     "execution_count": 150,
     "metadata": {},
     "output_type": "execute_result"
    },
    {
     "data": {
      "text/plain": [
       "Lead Profile\n",
       "Select                         0.634819\n",
       "Potential Lead                 0.246976\n",
       "Other Leads                    0.074567\n",
       "Student of SomeSchool          0.036901\n",
       "Lateral Student                0.003675\n",
       "Dual Specialization Student    0.003062\n",
       "Name: proportion, dtype: float64"
      ]
     },
     "execution_count": 150,
     "metadata": {},
     "output_type": "execute_result"
    },
    {
     "data": {
      "text/plain": [
       "City\n",
       "Mumbai                         0.412020\n",
       "Select                         0.287596\n",
       "Thane & Outskirts              0.096164\n",
       "Other Cities                   0.087724\n",
       "Other Cities of Maharashtra    0.058440\n",
       "Other Metro Cities             0.048593\n",
       "Tier II Cities                 0.009463\n",
       "Name: proportion, dtype: float64"
      ]
     },
     "execution_count": 150,
     "metadata": {},
     "output_type": "execute_result"
    },
    {
     "data": {
      "text/plain": [
       "Asymmetrique Activity Index\n",
       "02.Medium    0.764436\n",
       "01.High      0.163481\n",
       "03.Low       0.072083\n",
       "Name: proportion, dtype: float64"
      ]
     },
     "execution_count": 150,
     "metadata": {},
     "output_type": "execute_result"
    },
    {
     "data": {
      "text/plain": [
       "Asymmetrique Profile Index\n",
       "02.Medium    0.555157\n",
       "01.High      0.438670\n",
       "03.Low       0.006173\n",
       "Name: proportion, dtype: float64"
      ]
     },
     "execution_count": 150,
     "metadata": {},
     "output_type": "execute_result"
    },
    {
     "data": {
      "text/plain": [
       "free_copy_mastering_interview\n",
       "No     0.687446\n",
       "Yes    0.312554\n",
       "Name: proportion, dtype: float64"
      ]
     },
     "execution_count": 150,
     "metadata": {},
     "output_type": "execute_result"
    },
    {
     "data": {
      "text/plain": [
       "Last Notable Activity\n",
       "Modified                        0.368723\n",
       "Email Opened                    0.305952\n",
       "SMS Sent                        0.235065\n",
       "Page Visited on Website         0.034416\n",
       "Olark Chat Conversation         0.019805\n",
       "Email Link Clicked              0.018723\n",
       "Email Bounced                   0.006494\n",
       "Unsubscribed                    0.005087\n",
       "Unreachable                     0.003463\n",
       "Had a Phone Conversation        0.001515\n",
       "Email Marked Spam               0.000216\n",
       "Approached upfront              0.000108\n",
       "Resubscribed to emails          0.000108\n",
       "View in browser link Clicked    0.000108\n",
       "Form Submitted on Website       0.000108\n",
       "Email Received                  0.000108\n",
       "Name: proportion, dtype: float64"
      ]
     },
     "execution_count": 150,
     "metadata": {},
     "output_type": "execute_result"
    }
   ],
   "source": [
    "# Check the values in the categorical variables\n",
    "for i in leads.select_dtypes(include=\"object\").columns:\n",
    "    leads[i].value_counts(normalize=True)"
   ]
  },
  {
   "cell_type": "markdown",
   "metadata": {},
   "source": [
    "\"Lead Source\" columns is quite messy and need to be cleaned."
   ]
  },
  {
   "cell_type": "code",
   "execution_count": 151,
   "metadata": {},
   "outputs": [],
   "source": [
    "# \"Lead Source\" columns are in both upper and lowercase, so we need to convert them to lowercase\n",
    "leads['Lead Source'] = leads['Lead Source'].str.lower()\n",
    "\n",
    "# there are multiple values that represent the same lead source\n",
    "leads['Lead Source'] = leads['Lead Source'].replace(r'welearn.*', 'welearn', regex=True)\n",
    "leads['Lead Source'] = leads['Lead Source'].replace(r'refer.*', 'referral', regex=True)"
   ]
  },
  {
   "cell_type": "markdown",
   "metadata": {},
   "source": [
    "Many of the categorical variables have a level called 'Select' which needs to be handled because it is as good as a null value"
   ]
  },
  {
   "cell_type": "code",
   "execution_count": 152,
   "metadata": {},
   "outputs": [],
   "source": [
    "# treat \"Select\" as NULL\n",
    "leads.replace('Select', np.nan, inplace=True)"
   ]
  },
  {
   "cell_type": "markdown",
   "metadata": {},
   "source": [
    "The \"Lead Profile\" column is labeled with either \"Potential Lead\" or meaningless labels such as \"Other\". We can take advantage of this \"Potential Lead\" label!"
   ]
  },
  {
   "cell_type": "code",
   "execution_count": 153,
   "metadata": {},
   "outputs": [
    {
     "data": {
      "text/plain": [
       "Is_Potential_Lead\n",
       "0    0.825433\n",
       "1    0.174567\n",
       "Name: proportion, dtype: float64"
      ]
     },
     "execution_count": 153,
     "metadata": {},
     "output_type": "execute_result"
    }
   ],
   "source": [
    "leads['Is_Potential_Lead'] = np.where(leads['Lead Profile'] == \"Potential Lead\", 1, 0)\n",
    "leads['Is_Potential_Lead'].value_counts(normalize=True)"
   ]
  },
  {
   "cell_type": "code",
   "execution_count": 154,
   "metadata": {},
   "outputs": [],
   "source": [
    "# column \"Country\" is highly skewed toward \"India\", and column \"Prospect ID\" is not needed\n",
    "leads.drop(columns=[\"Country\", \"Prospect ID\"], inplace=True)"
   ]
  },
  {
   "cell_type": "markdown",
   "metadata": {},
   "source": [
    "### 2. Handling with missing values"
   ]
  },
  {
   "cell_type": "code",
   "execution_count": 155,
   "metadata": {},
   "outputs": [
    {
     "data": {
      "text/plain": [
       "source                         78.463203\n",
       "Lead Profile                   74.188312\n",
       "Lead Quality                   51.590909\n",
       "Asymmetrique Profile Index     45.649351\n",
       "Asymmetrique Activity Index    45.649351\n",
       "Asymmetrique Activity Score    45.649351\n",
       "Asymmetrique Profile Score     45.649351\n",
       "City                           39.707792\n",
       "Specialization                 36.580087\n",
       "Tags                           36.287879\n",
       "course_preference              29.318182\n",
       "occupation                     29.112554\n",
       "TotalVisits                     1.482684\n",
       "Page Views Per Visit            1.482684\n",
       "Last Activity                   1.114719\n",
       "Lead Source                     0.389610\n",
       "dtype: float64"
      ]
     },
     "execution_count": 155,
     "metadata": {},
     "output_type": "execute_result"
    }
   ],
   "source": [
    "# Checking the missing values\n",
    "missing_rate = leads.isnull().sum()*100/leads.shape[0]\n",
    "\n",
    "# Extract all columns containing missing values\n",
    "missing_rate[missing_rate!=0].sort_values(ascending=False)"
   ]
  },
  {
   "cell_type": "markdown",
   "metadata": {},
   "source": [
    "#### Check high missing counts columns"
   ]
  },
  {
   "cell_type": "code",
   "execution_count": 156,
   "metadata": {},
   "outputs": [],
   "source": [
    "# The 'source' column has high nulls count, so let drop it\n",
    "leads.drop(columns= 'source', axis=1, inplace=True)"
   ]
  },
  {
   "cell_type": "code",
   "execution_count": 157,
   "metadata": {},
   "outputs": [],
   "source": [
    "# since we already create a derived column from \"Lead Profile\", we can safely drop it\n",
    "leads.drop(columns= 'Lead Profile', axis=1, inplace=True)"
   ]
  },
  {
   "cell_type": "markdown",
   "metadata": {},
   "source": [
    "#### Check \"Lead quality\" column with ~50% missing values"
   ]
  },
  {
   "cell_type": "code",
   "execution_count": 158,
   "metadata": {},
   "outputs": [
    {
     "data": {
      "text/plain": [
       "Lead Quality\n",
       "Might be             0.348759\n",
       "Not Sure             0.244131\n",
       "High in Relevance    0.142410\n",
       "Worst                0.134362\n",
       "Low in Relevance     0.130338\n",
       "Name: proportion, dtype: float64"
      ]
     },
     "execution_count": 158,
     "metadata": {},
     "output_type": "execute_result"
    }
   ],
   "source": [
    "leads[\"Lead Quality\"].value_counts(normalize=True)"
   ]
  },
  {
   "cell_type": "markdown",
   "metadata": {},
   "source": [
    "- Data in this column has been not defined clearly. For example, it should be classified as **best**, **normal**, **worst** or **high**, **average**, **low**, but as this case, the data seems messy!  \n",
    "=> This column will drop because of missing values and low quality"
   ]
  },
  {
   "cell_type": "code",
   "execution_count": 159,
   "metadata": {},
   "outputs": [],
   "source": [
    "leads.drop([\"Lead Quality\"], axis=1, inplace = True)"
   ]
  },
  {
   "cell_type": "markdown",
   "metadata": {},
   "source": [
    "#### Index and score columns with almost 50% missing value"
   ]
  },
  {
   "cell_type": "code",
   "execution_count": 160,
   "metadata": {},
   "outputs": [
    {
     "data": {
      "text/plain": [
       "Asymmetrique Profile Score\n",
       "15.0    0.350259\n",
       "18.0    0.213262\n",
       "16.0    0.119275\n",
       "17.0    0.115293\n",
       "20.0    0.061330\n",
       "19.0    0.048785\n",
       "14.0    0.045002\n",
       "13.0    0.040621\n",
       "12.0    0.004381\n",
       "11.0    0.001792\n",
       "Name: proportion, dtype: float64"
      ]
     },
     "execution_count": 160,
     "metadata": {},
     "output_type": "execute_result"
    },
    {
     "data": {
      "text/plain": [
       "Asymmetrique Activity Score\n",
       "14.0    0.352648\n",
       "15.0    0.257467\n",
       "13.0    0.154321\n",
       "16.0    0.092991\n",
       "17.0    0.069494\n",
       "12.0    0.039028\n",
       "11.0    0.018917\n",
       "10.0    0.011350\n",
       "9.0     0.001792\n",
       "18.0    0.000996\n",
       "8.0     0.000796\n",
       "7.0     0.000199\n",
       "Name: proportion, dtype: float64"
      ]
     },
     "execution_count": 160,
     "metadata": {},
     "output_type": "execute_result"
    },
    {
     "data": {
      "text/plain": [
       "Asymmetrique Profile Index\n",
       "02.Medium    0.555157\n",
       "01.High      0.438670\n",
       "03.Low       0.006173\n",
       "Name: proportion, dtype: float64"
      ]
     },
     "execution_count": 160,
     "metadata": {},
     "output_type": "execute_result"
    },
    {
     "data": {
      "text/plain": [
       "Asymmetrique Activity Index\n",
       "02.Medium    0.764436\n",
       "01.High      0.163481\n",
       "03.Low       0.072083\n",
       "Name: proportion, dtype: float64"
      ]
     },
     "execution_count": 160,
     "metadata": {},
     "output_type": "execute_result"
    }
   ],
   "source": [
    "asym_columns = [\"Asymmetrique Profile Score\", \"Asymmetrique Activity Score\", \"Asymmetrique Profile Index\", \"Asymmetrique Activity Index\"]\n",
    "\n",
    "for i in asym_columns:\n",
    "    leads[i].value_counts(normalize=True)"
   ]
  },
  {
   "cell_type": "markdown",
   "metadata": {},
   "source": [
    "- In \"Asymmetrique Profile Score\" and \"Asymmetrique Activity Score\" columns, the difference between all values is not prominent.  \n",
    "=> Imputing missing values with the median values."
   ]
  },
  {
   "cell_type": "code",
   "execution_count": 161,
   "metadata": {},
   "outputs": [],
   "source": [
    "leads[\"Asymmetrique Activity Score\"].fillna(leads[\"Asymmetrique Activity Score\"].median(), inplace = True)\n",
    "leads[\"Asymmetrique Profile Score\"].fillna(leads[\"Asymmetrique Profile Score\"].median(), inplace = True)"
   ]
  },
  {
   "cell_type": "markdown",
   "metadata": {},
   "source": [
    "- \"Asymmetrique Profile Index\" and \"Asymmetrique Activity Index\" columns are categorical and the proportions of values that occupy the highest part are over 50%.  \n",
    "=> Replace missing values with the mode of the column."
   ]
  },
  {
   "cell_type": "code",
   "execution_count": 162,
   "metadata": {},
   "outputs": [],
   "source": [
    "leads[\"Asymmetrique Profile Index\"].fillna(leads[\"Asymmetrique Profile Index\"].mode()[0], inplace=True)\n",
    "leads[\"Asymmetrique Activity Index\"].fillna(leads[\"Asymmetrique Activity Index\"].mode()[0], inplace=True)"
   ]
  },
  {
   "cell_type": "markdown",
   "metadata": {},
   "source": [
    "#### All columns with moderate missing rates (15%-35%)"
   ]
  },
  {
   "cell_type": "code",
   "execution_count": 163,
   "metadata": {},
   "outputs": [],
   "source": [
    "moderate_missing = [\"City\", \"Specialization\", \"Tags\", \"course_preference\", \"occupation\"]"
   ]
  },
  {
   "cell_type": "code",
   "execution_count": 173,
   "metadata": {},
   "outputs": [
    {
     "data": {
      "text/plain": [
       "City\n",
       "unknown              0.393983\n",
       "Mumbai               0.350121\n",
       "Other Cities         0.165638\n",
       "Thane & Outskirts    0.082103\n",
       "Tier II Cities       0.008155\n",
       "Name: proportion, dtype: float64"
      ]
     },
     "execution_count": 173,
     "metadata": {},
     "output_type": "execute_result"
    },
    {
     "data": {
      "text/plain": [
       "Specialization\n",
       "unknown                      0.361693\n",
       "Other                        0.294688\n",
       "Finance Management           0.105687\n",
       "Human Resource Management    0.092242\n",
       "Marketing Management         0.090699\n",
       "Operations Management        0.054992\n",
       "Name: proportion, dtype: float64"
      ]
     },
     "execution_count": 173,
     "metadata": {},
     "output_type": "execute_result"
    },
    {
     "data": {
      "text/plain": [
       "Tags\n",
       "unknown                                0.366652\n",
       "Will revert after reading the email    0.222173\n",
       "Other                                  0.173022\n",
       "Ringing                                0.130813\n",
       "Interested in other courses            0.056094\n",
       "Already a student                      0.051245\n",
       "Name: proportion, dtype: float64"
      ]
     },
     "execution_count": 173,
     "metadata": {},
     "output_type": "execute_result"
    },
    {
     "data": {
      "text/plain": [
       "course_preference\n",
       "Better Career Prospects      0.702006\n",
       "unknown                      0.297774\n",
       "Flexibility & Convenience    0.000110\n",
       "Other                        0.000110\n",
       "Name: proportion, dtype: float64"
      ]
     },
     "execution_count": 173,
     "metadata": {},
     "output_type": "execute_result"
    },
    {
     "data": {
      "text/plain": [
       "occupation\n",
       "Unemployed              0.603482\n",
       "unknown                 0.295680\n",
       "Working Professional    0.074609\n",
       "Student                 0.022702\n",
       "Other                   0.001653\n",
       "Housewife               0.000992\n",
       "Businessman             0.000882\n",
       "Name: proportion, dtype: float64"
      ]
     },
     "execution_count": 173,
     "metadata": {},
     "output_type": "execute_result"
    }
   ],
   "source": [
    "for i in moderate_missing:\n",
    "    leads[i].value_counts(normalize=True)"
   ]
  },
  {
   "cell_type": "markdown",
   "metadata": {},
   "source": [
    "The ammount of null values (original known as \"Select\") are quite high for us to remove (since it will cost alot of data), but we cannot impute them with the median. So let convert them to \"unknow\" for now, and keep in mind to remove them in our future models."
   ]
  },
  {
   "cell_type": "code",
   "execution_count": 165,
   "metadata": {},
   "outputs": [],
   "source": [
    "# replace missing values with \"unknown\"\n",
    "leads[moderate_missing] = leads[moderate_missing].fillna('unknown')"
   ]
  },
  {
   "cell_type": "code",
   "execution_count": 166,
   "metadata": {},
   "outputs": [],
   "source": [
    "# too much \"Other\" labels in City variable\n",
    "leads[\"City\"].replace({\n",
    "    \"Other Cities of Maharashtra\": \"Other Cities\", \n",
    "    \"Other Metro Cities\": \"Other Cities\"}, \n",
    "    inplace = True)"
   ]
  },
  {
   "cell_type": "markdown",
   "metadata": {},
   "source": [
    "#### Columns with Low Missing Rates (<2%)"
   ]
  },
  {
   "cell_type": "code",
   "execution_count": 167,
   "metadata": {},
   "outputs": [],
   "source": [
    "# Removing rows with missing values\n",
    "leads.dropna(subset=[\"TotalVisits\", \"Page Views Per Visit\", \"Last Activity\", \"Lead Source\"], inplace=True)"
   ]
  },
  {
   "cell_type": "markdown",
   "metadata": {},
   "source": [
    "### 3. Handling redundancy in categorical columns"
   ]
  },
  {
   "cell_type": "code",
   "execution_count": 176,
   "metadata": {},
   "outputs": [
    {
     "data": {
      "text/plain": [
       "Lead Origin\n",
       "Landing Page Submission    0.538351\n",
       "API                        0.394313\n",
       "Lead Add Form              0.064029\n",
       "Lead Import                0.003306\n",
       "Name: proportion, dtype: float64"
      ]
     },
     "execution_count": 176,
     "metadata": {},
     "output_type": "execute_result"
    },
    {
     "data": {
      "text/plain": [
       "Lead Source\n",
       "google            0.316619\n",
       "direct traffic    0.280251\n",
       "olark chat        0.193189\n",
       "organic search    0.127177\n",
       "referral          0.062596\n",
       "Other             0.020168\n",
       "Name: proportion, dtype: float64"
      ]
     },
     "execution_count": 176,
     "metadata": {},
     "output_type": "execute_result"
    },
    {
     "data": {
      "text/plain": [
       "Last Activity\n",
       "Email Opened               0.378223\n",
       "SMS Sent                   0.299317\n",
       "Other                      0.144809\n",
       "Olark Chat Conversation    0.107119\n",
       "Page Visited on Website    0.070531\n",
       "Name: proportion, dtype: float64"
      ]
     },
     "execution_count": 176,
     "metadata": {},
     "output_type": "execute_result"
    },
    {
     "data": {
      "text/plain": [
       "Specialization\n",
       "unknown                      0.361693\n",
       "Other                        0.294688\n",
       "Finance Management           0.105687\n",
       "Human Resource Management    0.092242\n",
       "Marketing Management         0.090699\n",
       "Operations Management        0.054992\n",
       "Name: proportion, dtype: float64"
      ]
     },
     "execution_count": 176,
     "metadata": {},
     "output_type": "execute_result"
    },
    {
     "data": {
      "text/plain": [
       "occupation\n",
       "Unemployed              0.603482\n",
       "unknown                 0.295680\n",
       "Working Professional    0.074609\n",
       "Student                 0.022702\n",
       "Other                   0.001653\n",
       "Housewife               0.000992\n",
       "Businessman             0.000882\n",
       "Name: proportion, dtype: float64"
      ]
     },
     "execution_count": 176,
     "metadata": {},
     "output_type": "execute_result"
    },
    {
     "data": {
      "text/plain": [
       "course_preference\n",
       "Better Career Prospects      0.702006\n",
       "unknown                      0.297774\n",
       "Flexibility & Convenience    0.000110\n",
       "Other                        0.000110\n",
       "Name: proportion, dtype: float64"
      ]
     },
     "execution_count": 176,
     "metadata": {},
     "output_type": "execute_result"
    },
    {
     "data": {
      "text/plain": [
       "Tags\n",
       "unknown                                0.366652\n",
       "Will revert after reading the email    0.222173\n",
       "Other                                  0.173022\n",
       "Ringing                                0.130813\n",
       "Interested in other courses            0.056094\n",
       "Already a student                      0.051245\n",
       "Name: proportion, dtype: float64"
      ]
     },
     "execution_count": 176,
     "metadata": {},
     "output_type": "execute_result"
    },
    {
     "data": {
      "text/plain": [
       "City\n",
       "unknown              0.393983\n",
       "Mumbai               0.350121\n",
       "Other Cities         0.165638\n",
       "Thane & Outskirts    0.082103\n",
       "Tier II Cities       0.008155\n",
       "Name: proportion, dtype: float64"
      ]
     },
     "execution_count": 176,
     "metadata": {},
     "output_type": "execute_result"
    },
    {
     "data": {
      "text/plain": [
       "Asymmetrique Activity Index\n",
       "02.Medium    0.869738\n",
       "01.High      0.090368\n",
       "03.Low       0.039894\n",
       "Name: proportion, dtype: float64"
      ]
     },
     "execution_count": 176,
     "metadata": {},
     "output_type": "execute_result"
    },
    {
     "data": {
      "text/plain": [
       "Asymmetrique Profile Index\n",
       "02.Medium    0.759202\n",
       "01.High      0.237382\n",
       "03.Low       0.003416\n",
       "Name: proportion, dtype: float64"
      ]
     },
     "execution_count": 176,
     "metadata": {},
     "output_type": "execute_result"
    },
    {
     "data": {
      "text/plain": [
       "Last Notable Activity\n",
       "Modified        0.360040\n",
       "Email Opened    0.311109\n",
       "SMS Sent        0.237161\n",
       "Other           0.091691\n",
       "Name: proportion, dtype: float64"
      ]
     },
     "execution_count": 176,
     "metadata": {},
     "output_type": "execute_result"
    }
   ],
   "source": [
    "# check the values of categorical variables\n",
    "for i in leads.select_dtypes(include=\"object\").columns:\n",
    "    leads[i].value_counts(normalize=True)"
   ]
  },
  {
   "cell_type": "markdown",
   "metadata": {},
   "source": [
    "- There some categorical columns with reduntdant values: **\"Lead Source\", \"Last Activity\", \"Specialization\", \"Tags\", \"Last Notable Activity\"**"
   ]
  },
  {
   "cell_type": "code",
   "execution_count": 169,
   "metadata": {},
   "outputs": [],
   "source": [
    "def handle_redundancies(column):\n",
    "    proportions = leads[column].value_counts(normalize=True)\n",
    "\n",
    "    # Set a threshold for significant categories\n",
    "    threshold = 0.05 # under 5% will be count as \"Other\"\n",
    "\n",
    "    # Create a list of categories to keep (above the threshold)\n",
    "    significant_categories = proportions[proportions > threshold].index.tolist()\n",
    "\n",
    "    # Create a mapping where significant categories map to themselves and others map to 'Other'\n",
    "    mapping = {category: (category if category in significant_categories else 'Other') for category in leads[column].unique()}\n",
    "\n",
    "    # Apply the mapping to the DataFrame\n",
    "    leads[column].replace(mapping, inplace = True)"
   ]
  },
  {
   "cell_type": "code",
   "execution_count": 170,
   "metadata": {},
   "outputs": [],
   "source": [
    "reduntant_col = [\"Lead Source\", \"Last Activity\", \"Specialization\", \"Tags\", \"Last Notable Activity\"]"
   ]
  },
  {
   "cell_type": "code",
   "execution_count": 171,
   "metadata": {},
   "outputs": [],
   "source": [
    "for i in reduntant_col:\n",
    "    handle_redundancies(i)"
   ]
  },
  {
   "cell_type": "markdown",
   "metadata": {},
   "source": [
    "### 4. Converting some binary variables (Yes/No) to 0/1"
   ]
  },
  {
   "cell_type": "code",
   "execution_count": 172,
   "metadata": {},
   "outputs": [
    {
     "data": {
      "text/plain": [
       "['Do Not Email',\n",
       " 'Do Not Call',\n",
       " 'Search',\n",
       " 'Newspaper Article',\n",
       " 'X Education Forums',\n",
       " 'Newspaper',\n",
       " 'Digital Advertisement',\n",
       " 'Through Recommendations',\n",
       " 'free_copy_mastering_interview']"
      ]
     },
     "execution_count": 172,
     "metadata": {},
     "output_type": "execute_result"
    }
   ],
   "source": [
    "# List of variables to map\n",
    "bi_cols = []\n",
    "for i in leads.columns:\n",
    "    if leads[i].unique().size == 2:\n",
    "        bi_cols.append(i)\n",
    "# \"Converted\" column already contains binary with 1,0\n",
    "bi_cols.remove('Converted')\n",
    "bi_cols.remove('Is_Potential_Lead')\n",
    "bi_cols"
   ]
  },
  {
   "cell_type": "code",
   "execution_count": 175,
   "metadata": {},
   "outputs": [],
   "source": [
    "# Defining the map function\n",
    "def binary_map(x):\n",
    "    return x.map({'Yes': 1, \"No\": 0})\n",
    "\n",
    "# Applying the function to the binary columns\n",
    "leads[bi_cols] = leads[bi_cols].apply(binary_map)"
   ]
  },
  {
   "cell_type": "code",
   "execution_count": 177,
   "metadata": {},
   "outputs": [],
   "source": [
    "# Two columns \"Asymmetrique Activity Index\", \"Asymmetrique Profile Index\" contains three categories, so lets convert them to numbers\n",
    "index_mapping = {\n",
    "    '01.High': 1,\n",
    "    '02.Medium': 2,\n",
    "    '03.Low': 3\n",
    "}\n",
    "\n",
    "leads['Asymmetrique Activity Index'] = leads['Asymmetrique Activity Index'].map(index_mapping)\n",
    "leads['Asymmetrique Profile Index'] = leads['Asymmetrique Profile Index'].map(index_mapping)"
   ]
  },
  {
   "cell_type": "code",
   "execution_count": 178,
   "metadata": {},
   "outputs": [
    {
     "data": {
      "text/plain": [
       "Asymmetrique Activity Index\n",
       "2    7892\n",
       "1     820\n",
       "3     362\n",
       "Name: count, dtype: int64"
      ]
     },
     "execution_count": 178,
     "metadata": {},
     "output_type": "execute_result"
    },
    {
     "data": {
      "text/plain": [
       "Asymmetrique Profile Index\n",
       "2    6889\n",
       "1    2154\n",
       "3      31\n",
       "Name: count, dtype: int64"
      ]
     },
     "execution_count": 178,
     "metadata": {},
     "output_type": "execute_result"
    }
   ],
   "source": [
    "leads['Asymmetrique Activity Index'].value_counts()\n",
    "leads['Asymmetrique Profile Index'].value_counts()"
   ]
  },
  {
   "cell_type": "markdown",
   "metadata": {},
   "source": [
    "## *Step 2: EDA*"
   ]
  },
  {
   "cell_type": "markdown",
   "metadata": {},
   "source": [
    "### 5. Visualization"
   ]
  },
  {
   "cell_type": "markdown",
   "metadata": {},
   "source": [
    "#### 5.1. Univariate analysis"
   ]
  },
  {
   "cell_type": "code",
   "execution_count": null,
   "metadata": {},
   "outputs": [],
   "source": [
    "leads[\"Lead Origin\"].value_counts(normalize=True).plot.pie(autopct='%1.2f%%')\n",
    "plt.show()"
   ]
  },
  {
   "cell_type": "markdown",
   "metadata": {},
   "source": [
    "=> The origin identifier mainly is from \"Landing Page Submission\" and \"API\""
   ]
  },
  {
   "cell_type": "code",
   "execution_count": null,
   "metadata": {},
   "outputs": [],
   "source": [
    "leads[\"Asymmetrique Activity Index\"].value_counts(normalize=True).plot.pie(autopct='%1.2f%%')\n",
    "plt.title(\"The proportion of Asymmetrique Activity Index\")\n",
    "plt.show()\n",
    "leads[\"Asymmetrique Profile Index\"].value_counts(normalize=True).plot.pie(autopct='%1.2f%%')\n",
    "plt.title(\"The proportion of Asymmetrique Profile Index\")\n",
    "plt.show()"
   ]
  },
  {
   "cell_type": "code",
   "execution_count": null,
   "metadata": {},
   "outputs": [],
   "source": [
    "leads[\"Lead Source\"].value_counts(normalize=True).plot.barh()\n",
    "plt.show()"
   ]
  },
  {
   "cell_type": "markdown",
   "metadata": {},
   "source": [
    "=> Google accounts for the highest rate among all sources of the lead"
   ]
  },
  {
   "cell_type": "code",
   "execution_count": null,
   "metadata": {},
   "outputs": [],
   "source": [
    "leads[\"Last Activity\"].value_counts(normalize=True).plot.barh()\n",
    "plt.show()"
   ]
  },
  {
   "cell_type": "markdown",
   "metadata": {},
   "source": [
    "##### Visualizing the binary columns"
   ]
  },
  {
   "cell_type": "code",
   "execution_count": null,
   "metadata": {},
   "outputs": [],
   "source": [
    "plt.figure(figsize=(20, 12))\n",
    "for i in range(len(bi_cols)):\n",
    "    plt.subplot(3,3,i+1)\n",
    "    counts = leads[bi_cols[i]].value_counts(normalize=True)\n",
    "    plt.pie(counts, labels=counts.index, autopct='%1.1f%%')\n",
    "    plt.title(bi_cols[i], color='blue')\n",
    "plt.show()"
   ]
  },
  {
   "cell_type": "markdown",
   "metadata": {},
   "source": [
    "- ALmost customers are okay with receiving emails and calls about the course with over 90% say \"No\" with \"Do not email\" or \"Do not call\" even nearly 100%.\n",
    "- However, almost advertisement platforms or measurements are not realy effective, because almost 100% customers said \"No\" about seeing ad before. \n",
    "Only in \"free_copy_mastering_interview\" field, there is 31,8% customers having desire to receive a free copy of 'Mastering the Interview'."
   ]
  },
  {
   "cell_type": "markdown",
   "metadata": {},
   "source": [
    "#### 5.2. Bivariate analysis"
   ]
  },
  {
   "cell_type": "code",
   "execution_count": null,
   "metadata": {},
   "outputs": [],
   "source": [
    "leads.columns"
   ]
  },
  {
   "cell_type": "code",
   "execution_count": null,
   "metadata": {},
   "outputs": [],
   "source": [
    "leads.groupby('occupation')[\"total_time_on_website\"].mean().plot.bar()\n",
    "plt.show()"
   ]
  },
  {
   "cell_type": "markdown",
   "metadata": {},
   "source": [
    "- People who spent the most time on website are businessman or working Professional. \n",
    "\n",
    "=> These groups of people are potential for this course."
   ]
  },
  {
   "cell_type": "code",
   "execution_count": null,
   "metadata": {},
   "outputs": [],
   "source": [
    "leads.groupby('Specialization')[\"TotalVisits\"].mean().plot.barh()\n",
    "plt.show()"
   ]
  },
  {
   "cell_type": "markdown",
   "metadata": {},
   "source": [
    "The customers who worked in \"Travel and Tourism\", \"Supply Chain Management\" or \"Retail Management\" is potential for this course because of their high visits' rate."
   ]
  },
  {
   "cell_type": "code",
   "execution_count": null,
   "metadata": {},
   "outputs": [],
   "source": [
    "leads.groupby(['City'])['Page Views Per Visit'].aggregate(['mean','median']).plot.bar()\n",
    "plt.show()"
   ]
  },
  {
   "cell_type": "markdown",
   "metadata": {},
   "source": [
    "The chart shows the relationship between mean and median values across different city categories:\n",
    "\n",
    "- Mumbai and Tier II Cities have equal mean and median values, indicating symmetric data distributions.\n",
    "- Other Cities has a slightly higher mean than median, suggesting a right-skewed distribution.\n",
    "- Thane & Outskirts also shows similar mean and median values, indicating a symmetric distribution."
   ]
  },
  {
   "cell_type": "markdown",
   "metadata": {},
   "source": [
    "#### 5.3. Multivariate analysis"
   ]
  },
  {
   "cell_type": "code",
   "execution_count": null,
   "metadata": {},
   "outputs": [],
   "source": [
    "leads.dtypes"
   ]
  },
  {
   "cell_type": "code",
   "execution_count": 593,
   "metadata": {},
   "outputs": [],
   "source": [
    "num_col = []\n",
    "for i in leads.columns:\n",
    "    if (leads[i].unique().dtype==\"float64\" or leads[i].unique().dtype==\"int64\") and leads[i].unique().size>3:\n",
    "        num_col.append(i)\n"
   ]
  },
  {
   "cell_type": "code",
   "execution_count": null,
   "metadata": {},
   "outputs": [],
   "source": [
    "num_col"
   ]
  },
  {
   "cell_type": "code",
   "execution_count": null,
   "metadata": {},
   "outputs": [],
   "source": [
    "sns.pairplot(leads[num_col])\n",
    "plt.show()"
   ]
  },
  {
   "cell_type": "code",
   "execution_count": null,
   "metadata": {},
   "outputs": [],
   "source": [
    "days_corr=leads[num_col].corr()\n",
    "sns.heatmap(days_corr, annot=True, cmap='Reds')\n",
    "plt.title(\"Correlation between all numerical columns\")"
   ]
  },
  {
   "cell_type": "markdown",
   "metadata": {},
   "source": [
    "- Converted shows a moderate positive correlation with total_time_on_website (0.36).\n",
    "- Converted also has a moderate positive correlation with TotalVisits (0.32).\n",
    "- TotalVisits and Page Views Per Visit have a moderate positive correlation (0.51)."
   ]
  },
  {
   "cell_type": "code",
   "execution_count": null,
   "metadata": {},
   "outputs": [],
   "source": [
    "res=pd.pivot_table(data=leads, index=\"Lead Profile\", columns=\"City\", values=\"free_copy_mastering_interview\")\n",
    "sns.heatmap(res, annot= True, cmap=\"Blues\", center= 0.1)\n",
    "plt.title(\"Lead Profile vs. City through free_copy_mastering_interview\")\n",
    "plt.show()"
   ]
  },
  {
   "cell_type": "markdown",
   "metadata": {},
   "source": [
    "- Student of SomeSchool has high correlations across all city categories, especially in Mumbai (0.79) and Thane & Outskirts (0.64).\n",
    "- Potential Lead also shows relatively high correlations with Thane & Outskirts (0.78) and Tier II Cities (0.78).\n",
    "\n",
    "=> This indicates that certain lead profiles, particularly \"Student of SomeSchool,\" are more likely to be associated with receiving a free copy in various city categories."
   ]
  },
  {
   "cell_type": "markdown",
   "metadata": {},
   "source": [
    "### 6. Dummy variables"
   ]
  },
  {
   "cell_type": "code",
   "execution_count": 598,
   "metadata": {},
   "outputs": [],
   "source": [
    "# Dummy columns contains binary columns\n",
    "dummy_cols = bi_cols"
   ]
  },
  {
   "cell_type": "code",
   "execution_count": 599,
   "metadata": {},
   "outputs": [],
   "source": [
    "dummy_cols.append(\"Asymmetrique Activity Index\")\n",
    "dummy_cols.append(\"Asymmetrique Profile Index\")"
   ]
  },
  {
   "cell_type": "code",
   "execution_count": null,
   "metadata": {},
   "outputs": [],
   "source": [
    "dummy_cols"
   ]
  },
  {
   "cell_type": "markdown",
   "metadata": {},
   "source": [
    "- When creating dummy variables, the `drop_first=True` parameter is often used to avoid the **dummy variable trap** and to simplify the resulting dataset."
   ]
  },
  {
   "cell_type": "code",
   "execution_count": 601,
   "metadata": {},
   "outputs": [],
   "source": [
    "# Get the dummy variables for categorical variables.\n",
    "status = pd.get_dummies(leads[dummy_cols], columns=dummy_cols, drop_first = True).astype(int)"
   ]
  },
  {
   "cell_type": "code",
   "execution_count": null,
   "metadata": {},
   "outputs": [],
   "source": [
    "status.head()"
   ]
  },
  {
   "cell_type": "code",
   "execution_count": 603,
   "metadata": {},
   "outputs": [],
   "source": [
    "leads = pd.concat([leads, status], axis = 1)"
   ]
  },
  {
   "cell_type": "code",
   "execution_count": 604,
   "metadata": {},
   "outputs": [],
   "source": [
    "leads.drop(dummy_cols, axis=1, inplace=True)"
   ]
  },
  {
   "cell_type": "code",
   "execution_count": null,
   "metadata": {},
   "outputs": [],
   "source": [
    "leads.head()"
   ]
  },
  {
   "cell_type": "code",
   "execution_count": null,
   "metadata": {},
   "outputs": [],
   "source": [
    "leads.info()"
   ]
  },
  {
   "cell_type": "code",
   "execution_count": null,
   "metadata": {},
   "outputs": [],
   "source": [
    "leads.head()"
   ]
  },
  {
   "cell_type": "code",
   "execution_count": null,
   "metadata": {},
   "outputs": [],
   "source": [
    "for i in leads.columns:\n",
    "    leads[i].value_counts()"
   ]
  },
  {
   "cell_type": "code",
   "execution_count": null,
   "metadata": {},
   "outputs": [],
   "source": [
    "leads.columns"
   ]
  },
  {
   "cell_type": "markdown",
   "metadata": {},
   "source": [
    "=> These two columns 'Prospect ID', 'Lead Number': all values are unique, so creating dummy variables is not necessary\n",
    "So I drop both."
   ]
  },
  {
   "cell_type": "code",
   "execution_count": 610,
   "metadata": {},
   "outputs": [],
   "source": [
    "leads.drop(['Prospect ID', 'Lead Number'], axis=1, inplace=True)"
   ]
  },
  {
   "cell_type": "markdown",
   "metadata": {},
   "source": [
    "There are a lot of values in all these columns \"Country\", \"Specialization\", \"Tags\", so creating dummy is not effective for all these columns\n",
    "=> Dropping all these columns"
   ]
  },
  {
   "cell_type": "code",
   "execution_count": 611,
   "metadata": {},
   "outputs": [],
   "source": [
    "leads.drop([\"Country\", \"Specialization\", \"Tags\"], axis=1, inplace=True)"
   ]
  },
  {
   "cell_type": "code",
   "execution_count": 612,
   "metadata": {},
   "outputs": [],
   "source": [
    "# Total Visits\n",
    "# Group by the binned values\n",
    "leads['TotalVisits_group'] = pd.cut(leads['TotalVisits'], bins=[0, 10, 30, 100, 300], labels=[\"Very Low\", \"Low\", \"Moderate\", \"High\"])\n",
    "leads.drop(['TotalVisits'], axis=1, inplace=True)"
   ]
  },
  {
   "cell_type": "code",
   "execution_count": 613,
   "metadata": {},
   "outputs": [],
   "source": [
    "# total_time_on_website\n",
    "# Group by the binned values\n",
    "leads['total_time_group'] = pd.cut(leads['total_time_on_website'], bins=[0, 60, 120, 300, float('inf')], labels=['Very Low', 'Low', 'Moderate', 'High'])\n",
    "leads.drop(['total_time_on_website'], axis=1, inplace=True)"
   ]
  },
  {
   "cell_type": "code",
   "execution_count": 614,
   "metadata": {},
   "outputs": [],
   "source": [
    "# Page Views Per Visit\n",
    "# Group by the binned values\n",
    "leads['Views_per_visit_group'] = pd.cut(leads[\"Page Views Per Visit\"], bins=[0, 2, 4, 6, float('inf')], labels=['Very Low', 'Low', 'Moderate', 'High'])\n",
    "leads.drop([\"Page Views Per Visit\"], axis=1, inplace=True)"
   ]
  },
  {
   "cell_type": "code",
   "execution_count": 615,
   "metadata": {},
   "outputs": [],
   "source": [
    "# Asymmetrique Activity Score\n",
    "# Group by the binned values\n",
    "leads['Asymmetrique Activity Score Group'] = pd.cut(leads[\"Asymmetrique Activity Score\"], bins=[0, 8, 11, 14, float('inf')], labels=['Very Low', 'Low', 'Moderate', 'High'])\n",
    "leads.drop([\"Asymmetrique Activity Score\"], axis=1, inplace=True)"
   ]
  },
  {
   "cell_type": "code",
   "execution_count": 616,
   "metadata": {},
   "outputs": [],
   "source": [
    "# Asymmetrique Profile Score\n",
    "# Group by the binned values\n",
    "leads['Asymmetrique Profile Score Group'] = pd.cut(leads[\"Asymmetrique Profile Score\"], bins=[0, 11, 14, 17, float('inf')], labels=['Very Low', 'Low', 'Moderate', 'High'])\n",
    "leads.drop([\"Asymmetrique Profile Score\"], axis=1, inplace=True)"
   ]
  },
  {
   "cell_type": "code",
   "execution_count": null,
   "metadata": {},
   "outputs": [],
   "source": [
    "for i in leads.columns:\n",
    "    leads[i].value_counts()"
   ]
  },
  {
   "cell_type": "code",
   "execution_count": 618,
   "metadata": {},
   "outputs": [],
   "source": [
    "object_cols = []\n",
    "for i in leads.columns:\n",
    "    if leads[i].unique().dtype==\"object\":\n",
    "        object_cols.append(i)"
   ]
  },
  {
   "cell_type": "code",
   "execution_count": null,
   "metadata": {},
   "outputs": [],
   "source": [
    "object_cols"
   ]
  },
  {
   "cell_type": "code",
   "execution_count": 620,
   "metadata": {},
   "outputs": [],
   "source": [
    "# Get the dummy variables for categorical variables.\n",
    "status = pd.get_dummies(leads[object_cols], columns=object_cols, drop_first = True).astype(int)"
   ]
  },
  {
   "cell_type": "code",
   "execution_count": 621,
   "metadata": {},
   "outputs": [],
   "source": [
    "leads = pd.concat([leads, status], axis = 1)\n",
    "leads.drop(object_cols, axis=1, inplace=True)"
   ]
  },
  {
   "cell_type": "code",
   "execution_count": null,
   "metadata": {},
   "outputs": [],
   "source": [
    "leads.head()"
   ]
  },
  {
   "cell_type": "markdown",
   "metadata": {},
   "source": [
    "## *Step 3: Test-train split and scaling*"
   ]
  },
  {
   "cell_type": "markdown",
   "metadata": {},
   "source": [
    "## *Step 4: Model Building*"
   ]
  },
  {
   "cell_type": "markdown",
   "metadata": {},
   "source": [
    "**Methods on Model Building:**\n",
    "- Feature elimination based on correlations\n",
    "- Feature selection using Recursive Feature Elimination\n",
    "- Manual feature elimination (using p-values and VIFs)"
   ]
  },
  {
   "cell_type": "markdown",
   "metadata": {},
   "source": [
    "## *Step 5: Model Evaluation*"
   ]
  },
  {
   "cell_type": "markdown",
   "metadata": {},
   "source": [
    "**Metrics for Model Evaluation:**\n",
    "- Accuracy\n",
    "- Sensitivity and Specificity\n",
    "- Optimal cut-off using ROC curve\n",
    "- Precision and Recall"
   ]
  },
  {
   "cell_type": "markdown",
   "metadata": {},
   "source": [
    "## *Step 6: Predictions on the test set*"
   ]
  }
 ],
 "metadata": {
  "kernelspec": {
   "display_name": ".venv",
   "language": "python",
   "name": "python3"
  },
  "language_info": {
   "codemirror_mode": {
    "name": "ipython",
    "version": 3
   },
   "file_extension": ".py",
   "mimetype": "text/x-python",
   "name": "python",
   "nbconvert_exporter": "python",
   "pygments_lexer": "ipython3",
   "version": "3.11.9"
  }
 },
 "nbformat": 4,
 "nbformat_minor": 2
}
